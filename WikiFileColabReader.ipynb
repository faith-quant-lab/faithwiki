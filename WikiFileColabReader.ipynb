{
  "nbformat": 4,
  "nbformat_minor": 0,
  "metadata": {
    "colab": {
      "name": "WikiFileColabReader.ipynb",
      "version": "0.3.2",
      "provenance": [],
      "collapsed_sections": [],
      "toc_visible": true,
      "include_colab_link": true
    },
    "kernelspec": {
      "name": "python3",
      "display_name": "Python 3"
    }
  },
  "cells": [
    {
      "cell_type": "markdown",
      "metadata": {
        "id": "view-in-github",
        "colab_type": "text"
      },
      "source": [
        "<a href=\"https://colab.research.google.com/github/faith-quant-lab/faithwiki/blob/master/WikiFileColabReader.ipynb\" target=\"_parent\"><img src=\"https://colab.research.google.com/assets/colab-badge.svg\" alt=\"Open In Colab\"/></a>"
      ]
    },
    {
      "cell_type": "markdown",
      "metadata": {
        "id": "k66bX_g2YswS",
        "colab_type": "text"
      },
      "source": [
        "# WikiFile reader on Google Colaboratory\n",
        "\n",
        "https://github.com/faith-quant-lab/faithwiki/blob/master/WikiFileReader.ipynb is useful for running on a local computer.\n",
        "\n",
        "This notebook shows how to use Colab tools to directly access the 300MB Wiki Christian articles archive on Google Drive.\n",
        "\n",
        "* https://drive.google.com/file/d/1B5i5hYZO2NFCeAPSToBFbtGTkxoSt5ev/view?usp=sharing\n",
        "\n",
        "First copy this shared document to your own G-drive, and remember the path.\n",
        "\n",
        "Then ..."
      ]
    },
    {
      "cell_type": "code",
      "metadata": {
        "id": "CoF96GacYmey",
        "colab_type": "code",
        "colab": {
          "base_uri": "https://localhost:8080/",
          "height": 139
        },
        "outputId": "f8903613-5557-48ec-bed4-2dd2c2f66de8"
      },
      "source": [
        "from google.colab import drive\n",
        "drive.mount('/content/gdrive')\n",
        "! dir"
      ],
      "execution_count": 1,
      "outputs": [
        {
          "output_type": "stream",
          "text": [
            "Go to this URL in a browser: https://accounts.google.com/o/oauth2/auth?client_id=947318989803-6bn6qk8qdgf4n4g3pfee6491hc0brc4i.apps.googleusercontent.com&redirect_uri=urn%3Aietf%3Awg%3Aoauth%3A2.0%3Aoob&scope=email%20https%3A%2F%2Fwww.googleapis.com%2Fauth%2Fdocs.test%20https%3A%2F%2Fwww.googleapis.com%2Fauth%2Fdrive%20https%3A%2F%2Fwww.googleapis.com%2Fauth%2Fdrive.photos.readonly%20https%3A%2F%2Fwww.googleapis.com%2Fauth%2Fpeopleapi.readonly&response_type=code\n",
            "\n",
            "Enter your authorization code:\n",
            "··········\n",
            "Mounted at /content/gdrive\n",
            "gdrive\tsample_data\n"
          ],
          "name": "stdout"
        }
      ]
    },
    {
      "cell_type": "code",
      "metadata": {
        "id": "kdf1TdtMZeS4",
        "colab_type": "code",
        "colab": {
          "base_uri": "https://localhost:8080/",
          "height": 34
        },
        "outputId": "e26b28d5-e978-43fa-a416-5d43b7bc30ec"
      },
      "source": [
        "# Copy G-drive file to colab \n",
        "#!cp '/content/gdrive/My Drive/<file_path_on_google_drive>' <filename_in_colabo>\n",
        "\n",
        "# This is the location of the 300MB file within my G-drive:\n",
        "FILE_PATH_ON_GDRIVE = '/content/gdrive/My\\ Drive/Data/faithquantlab/wiki/'\n",
        "FILE_NAME = 'wiki_articles_christian2.txt.gz'\n",
        "!dir $FILE_PATH_ON_GDRIVE/$FILE_NAME\n",
        "!cp $FILE_PATH_ON_GDRIVE/$FILE_NAME /content/\n"
      ],
      "execution_count": 14,
      "outputs": [
        {
          "output_type": "stream",
          "text": [
            "/content/gdrive/My\\ Drive/Data/faithquantlab/wiki//wiki_articles_christian2.txt.gz\n"
          ],
          "name": "stdout"
        }
      ]
    },
    {
      "cell_type": "code",
      "metadata": {
        "id": "qZKsauuHnncw",
        "colab_type": "code",
        "colab": {}
      },
      "source": [
        "FILE_NAME = 'wiki_articles_christian2.txt.gz'\n",
        "!gunzip $FILE_NAME\n",
        "# takes a few seconds"
      ],
      "execution_count": 0,
      "outputs": []
    },
    {
      "cell_type": "code",
      "metadata": {
        "id": "NBilCMkwn_TI",
        "colab_type": "code",
        "colab": {
          "base_uri": "https://localhost:8080/",
          "height": 34
        },
        "outputId": "8e403048-4199-4e08-8466-1bf0e087fd13"
      },
      "source": [
        "# now the file is no longer gzipped\n",
        "FILE_NAME = 'wiki_articles_christian2.txt'\n",
        "!dir"
      ],
      "execution_count": 6,
      "outputs": [
        {
          "output_type": "stream",
          "text": [
            "gdrive\tsample_data  wiki_articles_christian2.txt\n"
          ],
          "name": "stdout"
        }
      ]
    },
    {
      "cell_type": "markdown",
      "metadata": {
        "id": "csIrGau4cgZE",
        "colab_type": "text"
      },
      "source": [
        "## Define WikiFile class"
      ]
    },
    {
      "cell_type": "code",
      "metadata": {
        "id": "E-VmFlhda6Jf",
        "colab_type": "code",
        "colab": {}
      },
      "source": [
        "class WikiFile(object):\n",
        "    def __init__(self, path):\n",
        "        self._articlepath = path\n",
        "        self._stream = open(path,\"r\", errors='ignore')\n",
        "        self._buffer = self._stream.readline()\n",
        "        while (not self._buffer.startswith('#Article:')):\n",
        "            print('initial extra lines:')\n",
        "            print(self._buffer)\n",
        "            self._buffer = self._stream.readline()\n",
        "        self._EOF_reached = False\n",
        "\n",
        "        \n",
        "    def getNext(self):\n",
        "        # a state machine that reads ahead a line to the begin marker of next article\n",
        "        if self._EOF_reached:\n",
        "            return None\n",
        "        nextline = self._stream.readline()\n",
        "        while (nextline != ''): # not good enough: (nextline is not None):\n",
        "            if nextline.startswith('#Article:'):\n",
        "                output = self._buffer\n",
        "                self._buffer = nextline\n",
        "                return output\n",
        "            else:\n",
        "                self._buffer += nextline\n",
        "                nextline = self._stream.readline()\n",
        "        #alternative to While: if nextline is None: # reached end of file\n",
        "        self._EOF_reached = True\n",
        "        output = self._buffer\n",
        "        self._buffer = None\n",
        "        return output\n",
        "\n",
        "    def getStream(self):\n",
        "        return self._stream\n",
        "    \n",
        "    def close(self):\n",
        "        self._stream.close()"
      ],
      "execution_count": 0,
      "outputs": []
    },
    {
      "cell_type": "markdown",
      "metadata": {
        "id": "w5KHGEkXc1dh",
        "colab_type": "text"
      },
      "source": [
        "### Example usage:"
      ]
    },
    {
      "cell_type": "code",
      "metadata": {
        "id": "oOwWD3B9c0lj",
        "colab_type": "code",
        "colab": {
          "base_uri": "https://localhost:8080/",
          "height": 173
        },
        "outputId": "24713259-74ec-49b6-e76f-140f6685653c"
      },
      "source": [
        "articleStream = WikiFile(FILE_NAME)\n",
        "# look at first article\n",
        "article = articleStream.getNext()\n",
        "articleStream.close()\n",
        "print(article[:1000])"
      ],
      "execution_count": 11,
      "outputs": [
        {
          "output_type": "stream",
          "text": [
            "#Article: Anarchism\n",
            "#Type: regular article\n",
            "\n",
            "Anarchism is a political philosophy that advocates self-governed societies based on voluntary institutions. These are often described as stateless societies, although several authors have defined them more specifically as institutions based on non-hierarchical free associations. Anarchism holds the state to be undesirable, unnecessary, and harmful.\n",
            "\n",
            "While anti-statism is central, anarchism specifically entails opposing authority or hierarchical organisation in the conduct of all human relations, including, but not limited to, the state system. Anarchism is usually considered an extreme left-wing ideology, and much of anarchist economics and anarchist legal philosophy reflects anti-authoritarian interpretations of communism, collectivism, syndicalism, mutualism, or participatory economics.\n",
            "\n",
            "Anarchism does not offer a fixed body of doctrine from a single particular world view, instead fluxing and flowing as a philosophy. Many types and traditio\n"
          ],
          "name": "stdout"
        }
      ]
    }
  ]
}